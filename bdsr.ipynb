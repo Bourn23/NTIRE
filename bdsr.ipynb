{
 "cells": [
  {
   "cell_type": "code",
   "execution_count": 2,
   "metadata": {},
   "outputs": [],
   "source": [
    "#export\n",
    "from tensorflow.python.keras.layers import Add, Conv2D, Input, Lambda\n",
    "from tensorflow.python.keras.models import Model\n",
    "\n",
    "from exp.nb_common import normalize, denormalize, pixel_shuffle"
   ]
  },
  {
   "cell_type": "code",
   "execution_count": 4,
   "metadata": {},
   "outputs": [],
   "source": [
    "#export\n",
    "def bdsr(scale, num_filters = 64, num_res_blocks = 8, res_block_scaling = None):\n",
    "    x_in = Input(shape=(None, None, 3))\n",
    "    x = Lambda(normalize)(x_in)\n",
    "\n",
    "    x = b = Conv2D(num_filters, 3, padding='same')(x)\n",
    "    for i in range(num_res_blocks):\n",
    "        b = res_block(b, num_filters, res_block_scaling)\n",
    "    x = Conv2D(num_filters, 3, padding='same')(b)\n",
    "    x = Add()([x, b])\n",
    "\n",
    "    x = upsample(x, scale, num_filters)\n",
    "    x = Conv2D(3, 3, padding='same')(x)\n",
    "\n",
    "    x = Lambda(denormalize)(x)\n",
    "    return Model(x_in, x, name=\"bdsr\")"
   ]
  },
  {
   "cell_type": "code",
   "execution_count": 5,
   "metadata": {},
   "outputs": [],
   "source": [
    "def res_block(x_in, filters, scaling):\n",
    "    x1 = Conv2D(filters, [1, 1], padding = 'same', activation = 'relu')(x_in)\n",
    "    x2_1 = Conv2D(filters, [3, 1], padding = 'same')(x_in)\n",
    "    x2_2 = Conv2D(x2_1.shape[3], [1, 3], padding = 'same', activation = 'relu')(x2_1)\n",
    "    y = Add()([x1, x2_2])\n",
    "    y = Conv2D(y.shape[3], [1, 1])(y)\n",
    "    if scale:\n",
    "        y = Lambda(pixel_shuffle(scale=scale))(y)\n",
    "        return Conv2D(16, [49, 49], padding = 'valid', activation = 'relu')(y)\n",
    "    return y"
   ]
  },
  {
   "cell_type": "code",
   "execution_count": 6,
   "metadata": {},
   "outputs": [],
   "source": [
    "def upsample(x, scale, num_filters):\n",
    "    def upsample_1(x, factor, **kwargs):\n",
    "        x = Conv2D(num_filters * (factor ** 2), 3, padding = 'same', **kwargs)(x)\n",
    "        return Lambda(pixel_shuffle(scale = factor))(x)\n",
    "    \n",
    "    if scale == 2:\n",
    "        x = upsample_1(x, 2, name = 'conv2d_1_scale_2')\n",
    "    elif scale == 3:\n",
    "        x = upsample_1(x, 3, name = 'conv2d_1_scale_3')\n",
    "    elif scale == 4:\n",
    "        x = upsample_1(x, 2, name = 'conv2d_1_scale_2')\n",
    "        x = upsample_1(x, 2, name = 'conv2d_2_scale_2')\n",
    "    \n",
    "    return x"
   ]
  }
 ],
 "metadata": {
  "kernelspec": {
   "display_name": "Python 3",
   "language": "python",
   "name": "python3"
  },
  "language_info": {
   "codemirror_mode": {
    "name": "ipython",
    "version": 3
   },
   "file_extension": ".py",
   "mimetype": "text/x-python",
   "name": "python",
   "nbconvert_exporter": "python",
   "pygments_lexer": "ipython3",
   "version": "3.6.3"
  }
 },
 "nbformat": 4,
 "nbformat_minor": 2
}
