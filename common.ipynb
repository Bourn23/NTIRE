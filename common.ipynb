{
 "cells": [
  {
   "cell_type": "code",
   "execution_count": 1,
   "metadata": {},
   "outputs": [],
   "source": [
    "#export\n",
    "import numpy as np\n",
    "import tensorflow as tf\n",
    "\n",
    "DIV2K_RGB_MEAN = np.array([0.4488, 0.4371, 0.4040]) * 255"
   ]
  },
  {
   "cell_type": "code",
   "execution_count": 2,
   "metadata": {},
   "outputs": [],
   "source": [
    "#export\n",
    "def resolve_single(model, lr):\n",
    "    return resolve(model, tf.expand_dims(lr, axis = 0))[0]"
   ]
  },
  {
   "cell_type": "code",
   "execution_count": 3,
   "metadata": {},
   "outputs": [],
   "source": [
    "#export\n",
    "def resolve(model, lr_batch):\n",
    "    lr_batch = tf.cast(lr_batch, tf.float32)\n",
    "    sr_batch = model(lr_batch)\n",
    "    sr_batch = tf.clip_by_value(sr_batch, 0, 255)\n",
    "    sr_batch = tf.round(sr_batch)\n",
    "    sr_batch = tf.cast(sr_batch, tf.uint8)\n",
    "    return sr_batch"
   ]
  },
  {
   "cell_type": "code",
   "execution_count": 4,
   "metadata": {},
   "outputs": [],
   "source": [
    "#export\n",
    "def evaluate(model, dataset):\n",
    "    psnr_values = []\n",
    "    for lr, hr in dataset:\n",
    "        sr = resolve(model, lr)\n",
    "        psnr_value = psnr(hr, sr)[0]\n",
    "        psnr_values.append(psnr_value)\n",
    "    return tf.reduce_mean(psnr_value)"
   ]
  },
  {
   "cell_type": "code",
   "execution_count": 5,
   "metadata": {},
   "outputs": [],
   "source": [
    "#export\n",
    "# NORMALIZATION\n",
    "def normalize(x, rgb_mean = DIV2K_RGB_MEAN):\n",
    "    return (x - rgb_mean) / 127.5"
   ]
  },
  {
   "cell_type": "code",
   "execution_count": 6,
   "metadata": {},
   "outputs": [],
   "source": [
    "#export\n",
    "def denormalize(x, rgb_mean = DIV2K_RGB_MEAN):\n",
    "    return x * 127.5 + rgb_mean"
   ]
  },
  {
   "cell_type": "code",
   "execution_count": 8,
   "metadata": {},
   "outputs": [],
   "source": [
    "#export\n",
    "def normalize_01(x):\n",
    "    \"\"\"Normalizes RGB images to [0, 1]\"\"\"\n",
    "    return x / 255."
   ]
  },
  {
   "cell_type": "code",
   "execution_count": 9,
   "metadata": {},
   "outputs": [],
   "source": [
    "#export\n",
    "def normalize_m11(x):\n",
    "    \"\"\"Normalizes RGB to [-1, 1]\"\"\"\n",
    "    return x / 127.5 - 1"
   ]
  },
  {
   "cell_type": "code",
   "execution_count": 10,
   "metadata": {},
   "outputs": [],
   "source": [
    "#export\n",
    "def denormalize_m11(x):\n",
    "    \"\"\"normalize_m11 inversed\"\"\"\n",
    "    return (x + 1) * 127.5"
   ]
  },
  {
   "cell_type": "code",
   "execution_count": 11,
   "metadata": {},
   "outputs": [],
   "source": [
    "#export\n",
    "# Metrics\n",
    "def psnr(x1, x2):\n",
    "    return tf.image.psnr(x1, x2, max_val = 255)"
   ]
  },
  {
   "cell_type": "code",
   "execution_count": 7,
   "metadata": {},
   "outputs": [],
   "source": [
    "#export\n",
    "# pixel shuffle\n",
    "def pixel_shuffle(scale): \n",
    "    return lambda x: tf.nn.depth_to_space(x, scale)"
   ]
  },
  {
   "cell_type": "code",
   "execution_count": null,
   "metadata": {},
   "outputs": [],
   "source": []
  }
 ],
 "metadata": {
  "kernelspec": {
   "display_name": "Python 3",
   "language": "python",
   "name": "python3"
  },
  "language_info": {
   "codemirror_mode": {
    "name": "ipython",
    "version": 3
   },
   "file_extension": ".py",
   "mimetype": "text/x-python",
   "name": "python",
   "nbconvert_exporter": "python",
   "pygments_lexer": "ipython3",
   "version": "3.6.3"
  }
 },
 "nbformat": 4,
 "nbformat_minor": 2
}
